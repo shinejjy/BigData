{
 "cells": [
  {
   "cell_type": "code",
   "execution_count": 10,
   "metadata": {
    "collapsed": true
   },
   "outputs": [
    {
     "name": "stdout",
     "output_type": "stream",
     "text": [
      "Evaluating SVD...\n",
      "Evaluating RMSE of algorithm SVD on 5 split(s).\n",
      "\n",
      "                  Fold 1  Fold 2  Fold 3  Fold 4  Fold 5  Mean    Std     \n",
      "RMSE (testset)    0.9410  0.9390  0.9322  0.9362  0.9434  0.9384  0.0039  \n",
      "Fit time          0.46    0.37    0.42    0.45    0.38    0.41    0.04    \n",
      "Test time         0.07    0.11    0.06    0.06    0.11    0.08    0.02    \n",
      "Evaluating KNNBasic...\n",
      "Computing the msd similarity matrix...\n",
      "Done computing similarity matrix.\n",
      "Computing the msd similarity matrix...\n",
      "Done computing similarity matrix.\n",
      "Computing the msd similarity matrix...\n",
      "Done computing similarity matrix.\n",
      "Computing the msd similarity matrix...\n",
      "Done computing similarity matrix.\n",
      "Computing the msd similarity matrix...\n",
      "Done computing similarity matrix.\n",
      "Evaluating RMSE of algorithm KNNBasic on 5 split(s).\n",
      "\n",
      "                  Fold 1  Fold 2  Fold 3  Fold 4  Fold 5  Mean    Std     \n",
      "RMSE (testset)    0.9767  0.9756  0.9775  0.9791  0.9841  0.9786  0.0030  \n",
      "Fit time          0.17    0.16    0.16    0.15    0.16    0.16    0.01    \n",
      "Test time         1.43    1.39    1.46    1.42    1.56    1.45    0.06    \n",
      "Evaluating SVDpp...\n",
      "Evaluating RMSE of algorithm SVDpp on 5 split(s).\n",
      "\n",
      "                  Fold 1  Fold 2  Fold 3  Fold 4  Fold 5  Mean    Std     \n",
      "RMSE (testset)    0.9179  0.9140  0.9252  0.9306  0.9162  0.9208  0.0062  \n",
      "Fit time          8.86    8.46    8.59    8.65    8.79    8.67    0.14    \n",
      "Test time         1.51    1.57    1.44    1.45    1.45    1.48    0.05    \n"
     ]
    },
    {
     "data": {
      "text/plain": "<Figure size 640x480 with 1 Axes>",
      "image/png": "[encoded data removed]"
     },
     "metadata": {},
     "output_type": "display_data"
    }
   ],
   "source": [
    "import matplotlib.pyplot as plt\n",
    "from surprise import Dataset, SVD, KNNBasic, SVDpp\n",
    "from surprise.model_selection import cross_validate\n",
    "from surprise import accuracy\n",
    "\n",
    "# 使用MovieLens数据集，加载数据集\n",
    "data = Dataset.load_builtin('ml-100k')\n",
    "\n",
    "# 初始化不同的推荐算法\n",
    "algorithms = {\n",
    "    'SVD': SVD(),\n",
    "    'KNNBasic': KNNBasic()\n",
    "}\n",
    "\n",
    "# 用于存储不同算法的性能指标\n",
    "results = {}\n",
    "\n",
    "# 交叉验证并评估每个算法\n",
    "for algo_name, algo in algorithms.items():\n",
    "    print(f\"Evaluating {algo_name}...\")\n",
    "    results[algo_name] = cross_validate(algo, data, measures=['RMSE'], cv=5, verbose=True)\n",
    "\n",
    "# 可视化比较不同算法的性能\n",
    "rmse_results = {algo_name: results[algo_name]['test_rmse'].mean() for algo_name in algorithms}\n",
    "plt.bar(rmse_results.keys(), rmse_results.values())\n",
    "plt.ylabel('RMSE (Lower is better)')\n",
    "plt.title('Algorithm Comparison')\n",
    "plt.show()\n"
   ]
  },
  {
   "cell_type": "code",
   "execution_count": 1,
   "outputs": [
    {
     "ename": "AttributeError",
     "evalue": "'DatasetAutoFolds' object has no attribute 'n_users'",
     "output_type": "error",
     "traceback": [
      "\u001B[1;31m---------------------------------------------------------------------------\u001B[0m",
      "\u001B[1;31mAttributeError\u001B[0m                            Traceback (most recent call last)",
      "Cell \u001B[1;32mIn[1], line 19\u001B[0m\n\u001B[0;32m     16\u001B[0m model \u001B[38;5;241m=\u001B[39m KNNBasic(sim_options\u001B[38;5;241m=\u001B[39msim_options)\n\u001B[0;32m     18\u001B[0m \u001B[38;5;66;03m# 在训练集上拟合模型\u001B[39;00m\n\u001B[1;32m---> 19\u001B[0m \u001B[43mmodel\u001B[49m\u001B[38;5;241;43m.\u001B[39;49m\u001B[43mfit\u001B[49m\u001B[43m(\u001B[49m\u001B[43mdata\u001B[49m\u001B[43m)\u001B[49m\n\u001B[0;32m     21\u001B[0m \u001B[38;5;66;03m# 在测试集上进行预测\u001B[39;00m\n\u001B[0;32m     22\u001B[0m predictions \u001B[38;5;241m=\u001B[39m model\u001B[38;5;241m.\u001B[39mtest(testset)\n",
      "File \u001B[1;32m~\\.conda\\envs\\pytorch\\lib\\site-packages\\surprise\\prediction_algorithms\\knns.py:97\u001B[0m, in \u001B[0;36mKNNBasic.fit\u001B[1;34m(self, trainset)\u001B[0m\n\u001B[0;32m     95\u001B[0m \u001B[38;5;28;01mdef\u001B[39;00m \u001B[38;5;21mfit\u001B[39m(\u001B[38;5;28mself\u001B[39m, trainset):\n\u001B[1;32m---> 97\u001B[0m     \u001B[43mSymmetricAlgo\u001B[49m\u001B[38;5;241;43m.\u001B[39;49m\u001B[43mfit\u001B[49m\u001B[43m(\u001B[49m\u001B[38;5;28;43mself\u001B[39;49m\u001B[43m,\u001B[49m\u001B[43m \u001B[49m\u001B[43mtrainset\u001B[49m\u001B[43m)\u001B[49m\n\u001B[0;32m     98\u001B[0m     \u001B[38;5;28mself\u001B[39m\u001B[38;5;241m.\u001B[39msim \u001B[38;5;241m=\u001B[39m \u001B[38;5;28mself\u001B[39m\u001B[38;5;241m.\u001B[39mcompute_similarities()\n\u001B[0;32m    100\u001B[0m     \u001B[38;5;28;01mreturn\u001B[39;00m \u001B[38;5;28mself\u001B[39m\n",
      "File \u001B[1;32m~\\.conda\\envs\\pytorch\\lib\\site-packages\\surprise\\prediction_algorithms\\knns.py:40\u001B[0m, in \u001B[0;36mSymmetricAlgo.fit\u001B[1;34m(self, trainset)\u001B[0m\n\u001B[0;32m     37\u001B[0m AlgoBase\u001B[38;5;241m.\u001B[39mfit(\u001B[38;5;28mself\u001B[39m, trainset)\n\u001B[0;32m     39\u001B[0m ub \u001B[38;5;241m=\u001B[39m \u001B[38;5;28mself\u001B[39m\u001B[38;5;241m.\u001B[39msim_options[\u001B[38;5;124m\"\u001B[39m\u001B[38;5;124muser_based\u001B[39m\u001B[38;5;124m\"\u001B[39m]\n\u001B[1;32m---> 40\u001B[0m \u001B[38;5;28mself\u001B[39m\u001B[38;5;241m.\u001B[39mn_x \u001B[38;5;241m=\u001B[39m \u001B[38;5;28;43mself\u001B[39;49m\u001B[38;5;241;43m.\u001B[39;49m\u001B[43mtrainset\u001B[49m\u001B[38;5;241;43m.\u001B[39;49m\u001B[43mn_users\u001B[49m \u001B[38;5;28;01mif\u001B[39;00m ub \u001B[38;5;28;01melse\u001B[39;00m \u001B[38;5;28mself\u001B[39m\u001B[38;5;241m.\u001B[39mtrainset\u001B[38;5;241m.\u001B[39mn_items\n\u001B[0;32m     41\u001B[0m \u001B[38;5;28mself\u001B[39m\u001B[38;5;241m.\u001B[39mn_y \u001B[38;5;241m=\u001B[39m \u001B[38;5;28mself\u001B[39m\u001B[38;5;241m.\u001B[39mtrainset\u001B[38;5;241m.\u001B[39mn_items \u001B[38;5;28;01mif\u001B[39;00m ub \u001B[38;5;28;01melse\u001B[39;00m \u001B[38;5;28mself\u001B[39m\u001B[38;5;241m.\u001B[39mtrainset\u001B[38;5;241m.\u001B[39mn_users\n\u001B[0;32m     42\u001B[0m \u001B[38;5;28mself\u001B[39m\u001B[38;5;241m.\u001B[39mxr \u001B[38;5;241m=\u001B[39m \u001B[38;5;28mself\u001B[39m\u001B[38;5;241m.\u001B[39mtrainset\u001B[38;5;241m.\u001B[39mur \u001B[38;5;28;01mif\u001B[39;00m ub \u001B[38;5;28;01melse\u001B[39;00m \u001B[38;5;28mself\u001B[39m\u001B[38;5;241m.\u001B[39mtrainset\u001B[38;5;241m.\u001B[39mir\n",
      "\u001B[1;31mAttributeError\u001B[0m: 'DatasetAutoFolds' object has no attribute 'n_users'"
     ]
    }
   ],
   "source": [
    "from surprise import Dataset, Reader, KNNBasic\n",
    "from surprise.model_selection import train_test_split\n",
    "from surprise import accuracy\n",
    "\n",
    "# 使用内置数据集 MovieLens 100k\n",
    "data = Dataset.load_builtin('ml-100k')\n",
    "\n",
    "# 将数据集划分为训练集和测试集\n",
    "trainset, testset = train_test_split(data, test_size=0.01)\n",
    "\n",
    "# 使用基于用户的协同过滤算法构建推荐模型\n",
    "sim_options = {\n",
    "    'name': 'cosine',\n",
    "    'user_based': True\n",
    "}\n",
    "model = KNNBasic(sim_options=sim_options)\n",
    "\n",
    "# 在训练集上拟合模型\n",
    "model.fit(data)\n",
    "\n",
    "# 在测试集上进行预测\n",
    "predictions = model.test(testset)\n",
    "\n",
    "# 计算预测的均方根误差（RMSE）\n",
    "rmse = accuracy.rmse(predictions)\n",
    "\n",
    "# 进行推荐\n",
    "user_id = 13  # 替换为您想要为之生成推荐的用户ID\n",
    "top_n = 10  # 想要生成的推荐数量\n",
    "\n",
    "# 获取用户已评分的电影\n",
    "rated_movies = [rating[0] for rating in trainset.ur[int(user_id)]]\n",
    "\n",
    "# 获取所有电影的ID\n",
    "movie_ids = range(1683)\n",
    "\n",
    "# 获取用户未评分的电影\n",
    "unrated_movies = [movie_id for movie_id in movie_ids if movie_id not in rated_movies]\n",
    "\n",
    "# 预测用户对未评分电影的评分\n",
    "user_ratings = [(int(user_id), movie_id, model.predict(int(user_id), int(movie_id)).est) for movie_id in unrated_movies]\n",
    "\n",
    "# 按评分排序，生成前N个推荐\n",
    "user_ratings.sort(key=lambda x: x[2], reverse=True)\n",
    "top_ratings = user_ratings[:top_n]\n",
    "\n",
    "# 打印出推荐结果\n",
    "print(f\"为用户 {user_id} 推荐的前 {top_n} 部电影:\")\n",
    "for rating in top_ratings:\n",
    "    movie_id = rating[1]\n",
    "    predicted_rating = rating[2]\n",
    "    print(f\"电影 ID: {movie_id}, 预测评分: {predicted_rating}\")\n"
   ],
   "metadata": {
    "collapsed": false
   }
  },
  {
   "cell_type": "code",
   "execution_count": 2,
   "outputs": [
    {
     "name": "stdout",
     "output_type": "stream",
     "text": [
      "Computing the cosine similarity matrix...\n",
      "Done computing similarity matrix.\n",
      "Computing the cosine similarity matrix...\n",
      "Done computing similarity matrix.\n",
      "Computing the cosine similarity matrix...\n",
      "Done computing similarity matrix.\n",
      "Computing the cosine similarity matrix...\n",
      "Done computing similarity matrix.\n",
      "Computing the cosine similarity matrix...\n",
      "Done computing similarity matrix.\n",
      "Evaluating RMSE, MAE of algorithm KNNBasic on 5 split(s).\n",
      "\n",
      "                  Fold 1  Fold 2  Fold 3  Fold 4  Fold 5  Mean    Std     \n",
      "RMSE (testset)    0.9113  0.2986  1.2772  1.0649  1.0670  0.9238  0.3336  \n",
      "MAE (testset)     0.6638  0.1839  1.2521  0.7530  0.7545  0.7214  0.3394  \n",
      "Fit time          0.00    0.00    0.00    0.00    0.00    0.00    0.00    \n",
      "Test time         0.00    0.00    0.00    0.00    0.00    0.00    0.00    \n",
      "Computing the cosine similarity matrix...\n",
      "Done computing similarity matrix.\n",
      "预测评分为: 4.00803661742721\n"
     ]
    }
   ],
   "source": [
    "import pandas as pd\n",
    "from surprise import Dataset, Reader, KNNBasic\n",
    "from surprise.model_selection import cross_validate\n",
    "\n",
    "# 示例数据\n",
    "data = [\n",
    "    ('Alice', 'Star Wars', 5),\n",
    "    ('Alice', 'Inception', 4),\n",
    "    ('Alice', 'The Shawshank Redemption', 3),\n",
    "    ('Bob', 'Star Wars', 4),\n",
    "    ('Bob', 'Inception', 5),\n",
    "    ('Bob', 'The Shawshank Redemption', 4),\n",
    "    ('Carol', 'Star Wars', 3),\n",
    "    ('Carol', 'Inception', 2),\n",
    "    ('Carol', 'The Shawshank Redemption', 4),\n",
    "    ('Dave', 'Star Wars', 5),\n",
    "    ('Dave', 'Inception', 5),\n",
    "    ('Dave', 'The Shawshank Redemption', 5)\n",
    "]\n",
    "\n",
    "# 创建DataFrame\n",
    "df = pd.DataFrame(data, columns=['user_id', 'item_id', 'rating'])\n",
    "\n",
    "# 创建一个Reader对象，定义评分范围\n",
    "reader = Reader(rating_scale=(1, 5))\n",
    "\n",
    "# 加载数据集\n",
    "dataset = Dataset.load_from_df(df[['user_id', 'item_id', 'rating']], reader)\n",
    "\n",
    "# 使用KNNBasic算法构建模型\n",
    "sim_options = {\n",
    "    'name': 'cosine',\n",
    "    'user_based': False  # 基于物品的协同过滤\n",
    "}\n",
    "\n",
    "model = KNNBasic(sim_options=sim_options)\n",
    "\n",
    "# 交叉验证评估模型\n",
    "cross_validate(model, dataset, measures=['RMSE', 'MAE'], cv=5, verbose=True)\n",
    "\n",
    "# 训练模型\n",
    "trainset = dataset.build_full_trainset()\n",
    "model.fit(trainset)\n",
    "\n",
    "# 进行推荐\n",
    "user_id = 'Alice'\n",
    "item_id = 'Inception'\n",
    "\n",
    "# 获取给定用户对于指定电影的评分预测\n",
    "predicted_rating = model.predict(user_id, item_id).est\n",
    "print(f'预测评分为: {predicted_rating}')\n"
   ],
   "metadata": {
    "collapsed": false
   }
  },
  {
   "cell_type": "code",
   "execution_count": 4,
   "outputs": [
    {
     "name": "stdout",
     "output_type": "stream",
     "text": [
      "Evaluating RMSE, MAE of algorithm SVD on 4 split(s).\n",
      "\n",
      "                  Fold 1  Fold 2  Fold 3  Fold 4  Mean    Std     \n",
      "RMSE (testset)    0.9410  0.9506  0.9374  0.9389  0.9420  0.0051  \n",
      "MAE (testset)     0.7419  0.7511  0.7390  0.7394  0.7429  0.0049  \n",
      "Fit time          0.48    0.38    0.35    0.44    0.42    0.05    \n",
      "Test time         0.13    0.08    0.07    0.12    0.10    0.03    \n",
      "预测评分为: 4.035838307420791\n"
     ]
    }
   ],
   "source": [
    "from surprise import Dataset, SVD\n",
    "from surprise.model_selection import cross_validate\n",
    "\n",
    "# 使用内置数据集MovieLens 100K\n",
    "data = Dataset.load_builtin('ml-100k')\n",
    "\n",
    "# 加载数据集\n",
    "trainset = data.build_full_trainset()\n",
    "\n",
    "model = SVD()\n",
    "\n",
    "# 交叉验证评估模型\n",
    "cross_validate(model, data, measures=['RMSE', 'MAE'], cv=4, verbose=True)\n",
    "\n",
    "# 训练模型\n",
    "model.fit(trainset)\n",
    "\n",
    "# 进行推荐\n",
    "user_id = str(196)  # 示例用户ID\n",
    "item_id = str(302)  # 示例电影ID\n",
    "\n",
    "# 获取给定用户对于指定电影的评分预测\n",
    "predicted_rating = model.predict(user_id, item_id).est\n",
    "print(f'预测评分为: {predicted_rating}')\n"
   ],
   "metadata": {
    "collapsed": false
   }
  },
  {
   "cell_type": "code",
   "execution_count": 31,
   "outputs": [],
   "source": [],
   "metadata": {
    "collapsed": false
   }
  }
 ],
 "metadata": {
  "kernelspec": {
   "display_name": "Python 3",
   "language": "python",
   "name": "python3"
  },
  "language_info": {
   "codemirror_mode": {
    "name": "ipython",
    "version": 2
   },
   "file_extension": ".py",
   "mimetype": "text/x-python",
   "name": "python",
   "nbconvert_exporter": "python",
   "pygments_lexer": "ipython2",
   "version": "2.7.6"
  }
 },
 "nbformat": 4,
 "nbformat_minor": 0
}
